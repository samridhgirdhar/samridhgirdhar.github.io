{
 "cells": [
  {
   "cell_type": "code",
   "execution_count": 3,
   "id": "28197828",
   "metadata": {},
   "outputs": [],
   "source": [
    "from moviepy.editor import VideoFileClip, VideoClip, CompositeVideoClip\n",
    "import numpy as np\n",
    "\n",
    "def make_wipe_mask(size, duration):\n",
    "    \"\"\"\n",
    "    Returns a mask clip of given size (w,h) that reveals from\n",
    "    top to bottom over `duration` seconds.\n",
    "    \"\"\"\n",
    "    w, h = size\n",
    "\n",
    "    def mask_frame(t):\n",
    "        # Number of rows to reveal at time t\n",
    "        rows = int((t / duration) * h)\n",
    "        mask = np.zeros((h, w), dtype=np.uint8)\n",
    "        mask[:rows, :] = 255\n",
    "        return mask\n",
    "\n",
    "    return VideoClip(make_frame=mask_frame, ismask=True, duration=duration)\n",
    "\n",
    "def stack_with_wipe_transitions(gif_paths, transition_duration=0.5, output_path=\"output.gif\"):\n",
    "    # Load all GIFs as clips\n",
    "    clips = [VideoFileClip(path) for path in gif_paths]\n",
    "\n",
    "    # Ensure same size (optional; here we'll resize all to the first clip's size)\n",
    "    target_size = clips[0].size\n",
    "    for i, clip in enumerate(clips):\n",
    "        if clip.size != target_size:\n",
    "            clips[i] = clip.resize(target_size)\n",
    "\n",
    "    # Start building the composite timeline\n",
    "    timeline = clips[0]\n",
    "\n",
    "    # For each next clip, create a wipe mask and overlay it at the end of the previous\n",
    "    for next_clip in clips[1:]:\n",
    "        # Create mask animation\n",
    "        mask = make_wipe_mask(target_size, transition_duration)\n",
    "\n",
    "        # Position the next clip to start at end of the current timeline\n",
    "        masked_clip = (\n",
    "            next_clip\n",
    "            .set_start(timeline.duration)    # when the wipe should begin\n",
    "            .set_mask(mask)                 # apply our top-to-bottom mask\n",
    "        )\n",
    "\n",
    "        # Composite the current timeline with the incoming masked clip\n",
    "        timeline = CompositeVideoClip([timeline, masked_clip], size=target_size)\n",
    "\n",
    "    # Export as GIF (you can also use write_videofile for MP4/WEBM)\n",
    "    timeline.write_gif(output_path, fps=clips[0].fps)\n",
    "\n",
    "# if __name__ == \"__main__\":\n",
    "#     # Replace these with your actual filenames\n",
    "#     gifs = [\"media/gifs/1.gif\", \"media/gifs/2.gif\", \"media/gifs/3.gif\"]\n",
    "#     stack_with_wipe_transitions(gifs,\n",
    "#                                 transition_duration=0.7,   # seconds per wipe\n",
    "#                                 output_path=\"combined.gif\")\n",
    "#     print(\"Done! Check combined.gif\")\n"
   ]
  },
  {
   "cell_type": "code",
   "execution_count": 4,
   "id": "e23fbe6d",
   "metadata": {},
   "outputs": [
    {
     "name": "stdout",
     "output_type": "stream",
     "text": [
      "MoviePy - Building file combined.gif with imageio.\n"
     ]
    },
    {
     "name": "stderr",
     "output_type": "stream",
     "text": [
      "                                                               \r"
     ]
    },
    {
     "name": "stdout",
     "output_type": "stream",
     "text": [
      "Done! Check combined.gif\n"
     ]
    }
   ],
   "source": [
    "# add this before any moviepy imports\n",
    "from PIL import Image\n",
    "if not hasattr(Image, \"ANTIALIAS\"):\n",
    "    # Pillow ≥10 has moved ANTIALIAS under Resampling\n",
    "    Image.ANTIALIAS = Image.Resampling.LANCZOS\n",
    "\n",
    "from moviepy.editor import VideoFileClip, VideoClip, CompositeVideoClip\n",
    "import numpy as np\n",
    "\n",
    "def make_wipe_mask(size, duration):\n",
    "    w, h = size\n",
    "    def mask_frame(t):\n",
    "        rows = int((t / duration) * h)\n",
    "        mask = np.zeros((h, w), dtype=np.uint8)\n",
    "        mask[:rows, :] = 255\n",
    "        return mask\n",
    "    return VideoClip(make_frame=mask_frame, ismask=True, duration=duration)\n",
    "\n",
    "def stack_with_wipe_transitions(gif_paths, transition_duration=0.5, output_path=\"output.gif\"):\n",
    "    clips = [VideoFileClip(path) for path in gif_paths]\n",
    "    target_size = clips[0].size\n",
    "    for i, clip in enumerate(clips):\n",
    "        if clip.size != target_size:\n",
    "            clips[i] = clip.resize(target_size)  # now uses patched Image.ANTIALIAS\n",
    "\n",
    "    timeline = clips[0]\n",
    "    for next_clip in clips[1:]:\n",
    "        mask = make_wipe_mask(target_size, transition_duration)\n",
    "        masked = next_clip.set_start(timeline.duration).set_mask(mask)\n",
    "        timeline = CompositeVideoClip([timeline, masked], size=target_size)\n",
    "\n",
    "    timeline.write_gif(output_path, fps=clips[0].fps)\n",
    "\n",
    "if __name__ == \"__main__\":\n",
    "    gifs = [\"media/gifs/1.gif\", \"media/gifs/2.gif\", \"media/gifs/3.gif\"]\n",
    "    stack_with_wipe_transitions(\n",
    "        gifs,\n",
    "        transition_duration=0.7,\n",
    "        output_path=\"combined.gif\"\n",
    "    )\n",
    "    print(\"Done! Check combined.gif\")\n"
   ]
  },
  {
   "cell_type": "code",
   "execution_count": null,
   "id": "25cd5952",
   "metadata": {},
   "outputs": [
    {
     "name": "stdout",
     "output_type": "stream",
     "text": [
      "MoviePy - Building file combined.gif with imageio.\n"
     ]
    },
    {
     "name": "stderr",
     "output_type": "stream",
     "text": [
      "                                                              \r"
     ]
    },
    {
     "name": "stdout",
     "output_type": "stream",
     "text": [
      "Done! Check combined.gif\n"
     ]
    }
   ],
   "source": [
    "# patch Pillow for MoviePy if using Pillow ≥10\n",
    "from PIL import Image, ImageFilter\n",
    "if not hasattr(Image, \"ANTIALIAS\"):\n",
    "    Image.ANTIALIAS = Image.Resampling.LANCZOS\n",
    "\n",
    "from moviepy.editor import VideoFileClip, VideoClip, CompositeVideoClip, vfx\n",
    "import numpy as np\n",
    "\n",
    "def make_wipe_mask(size, duration):\n",
    "    w, h = size\n",
    "    def mask_frame(t):\n",
    "        rows = int((t / duration) * h)\n",
    "        mask = np.zeros((h, w), dtype=np.uint8)\n",
    "        mask[:rows, :] = 255\n",
    "        return mask\n",
    "    return VideoClip(make_frame=mask_frame, ismask=True, duration=duration)\n",
    "\n",
    "def stack_with_wipe_transitions(\n",
    "    gif_paths,\n",
    "    transition_duration=0.5,\n",
    "    speed_factor=2.0,\n",
    "    output_path=\"combined.gif\"\n",
    "):\n",
    "    clips = []\n",
    "    for i, path in enumerate(gif_paths):\n",
    "        clip = VideoFileClip(path)\n",
    "        # 1) speed up\n",
    "        clip = clip.fx(vfx.speedx, speed_factor)\n",
    "\n",
    "        # 2) for the 3rd GIF only, apply a tiny median filter per-frame\n",
    "        if i == 2:\n",
    "            def denoise_frame(frame):\n",
    "                # frame is a H×W×3 uint8 ndarray\n",
    "                pil = Image.fromarray(frame)\n",
    "                filtered = pil.filter(ImageFilter.MedianFilter(size=3))\n",
    "                return np.array(filtered)\n",
    "            clip = clip.fl_image(denoise_frame)\n",
    "\n",
    "        clips.append(clip)\n",
    "\n",
    "    # unify sizes\n",
    "    target_size = clips[0].size\n",
    "    for i, clip in enumerate(clips):\n",
    "        if clip.size != target_size:\n",
    "            clips[i] = clip.resize(target_size)\n",
    "\n",
    "    # build timeline with top→bottom wipes\n",
    "    timeline = clips[0]\n",
    "    for next_clip in clips[1:]:\n",
    "        mask = make_wipe_mask(target_size, transition_duration)\n",
    "        incoming = next_clip.set_start(timeline.duration).set_mask(mask)\n",
    "        timeline = CompositeVideoClip(\n",
    "            [timeline, incoming],\n",
    "            size=target_size\n",
    "        )\n",
    "\n",
    "    # export\n",
    "    timeline.write_gif(output_path, fps=clips[0].fps)\n",
    "\n",
    "if __name__ == \"__main__\":\n",
    "    gifs = [\n",
    "        \"media/gifs/2.gif\",\n",
    "        \"media/gifs/1.gif\",\n",
    "        \"media/gifs/3.gif\"\n",
    "    ]\n",
    "    stack_with_wipe_transitions(\n",
    "        gifs,\n",
    "        transition_duration=0.7,   # seconds per wipe\n",
    "        speed_factor=2.0,          # 2× speed everywhere\n",
    "        output_path=\"media/gifs/combined.gif\"\n",
    "    )\n",
    "    print(\"Done! Check combined.gif\")\n"
   ]
  }
 ],
 "metadata": {
  "kernelspec": {
   "display_name": "aiml",
   "language": "python",
   "name": "python3"
  },
  "language_info": {
   "codemirror_mode": {
    "name": "ipython",
    "version": 3
   },
   "file_extension": ".py",
   "mimetype": "text/x-python",
   "name": "python",
   "nbconvert_exporter": "python",
   "pygments_lexer": "ipython3",
   "version": "3.13.0"
  }
 },
 "nbformat": 4,
 "nbformat_minor": 5
}
